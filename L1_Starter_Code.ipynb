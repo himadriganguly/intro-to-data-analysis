{
 "cells": [
  {
   "cell_type": "markdown",
   "metadata": {},
   "source": [
    "Before we get started, a couple of reminders to keep in mind when using iPython notebooks:\n",
    "\n",
    "- Remember that you can see from the left side of a code cell when it was last run if there is a number within the brackets.\n",
    "- When you start a new notebook session, make sure you run all of the cells up to the point where you last left off. Even if the output is still visible from when you ran the cells in your previous session, the kernel starts in a fresh state so you'll need to reload the data, etc. on a new session.\n",
    "- The previous point is useful to keep in mind if your answers do not match what is expected in the lesson's quizzes. Try reloading the data and run all of the processing steps one by one in order to make sure that you are working with the same variables and data that are at each quiz stage.\n",
    "\n",
    "\n",
    "## Load Data from CSVs"
   ]
  },
  {
   "cell_type": "code",
   "execution_count": 68,
   "metadata": {
    "collapsed": true
   },
   "outputs": [],
   "source": [
    "import unicodecsv\n",
    "\n",
    "## Longer version of code (replaced with shorter, equivalent version below)\n",
    "\n",
    "# enrollments = []\n",
    "# f = open('enrollments.csv', 'rb')\n",
    "# reader = unicodecsv.DictReader(f)\n",
    "# for row in reader:\n",
    "#     enrollments.append(row)\n",
    "# f.close()\n",
    "\n",
    "with open('data/enrollments.csv', 'rb') as f:\n",
    "    reader = unicodecsv.DictReader(f)\n",
    "    enrollments = list(reader)"
   ]
  },
  {
   "cell_type": "code",
   "execution_count": 69,
   "metadata": {
    "collapsed": false
   },
   "outputs": [],
   "source": [
    "#####################################\n",
    "#                 1                 #\n",
    "#####################################\n",
    "\n",
    "## Read in the data from daily_engagement.csv and project_submissions.csv \n",
    "## and store the results in the below variables.\n",
    "## Then look at the first row of each table.\n",
    "\n",
    "## daily_engagement = \n",
    "## project_submissions = \n",
    "\n",
    "def read_csv(filename):\n",
    "    with open(filename, 'rb') as f:\n",
    "        reader = unicodecsv.DictReader(f)\n",
    "        return list(reader)\n",
    "\n",
    "daily_engagement = read_csv('data/daily_engagement.csv')\n",
    "project_submissions = read_csv('data/project_submissions.csv')"
   ]
  },
  {
   "cell_type": "markdown",
   "metadata": {},
   "source": [
    "## Fixing Data Types"
   ]
  },
  {
   "cell_type": "code",
   "execution_count": 3,
   "metadata": {
    "collapsed": false
   },
   "outputs": [
    {
     "data": {
      "text/plain": [
       "OrderedDict([('account_key', '448'),\n",
       "             ('status', 'canceled'),\n",
       "             ('join_date', datetime.datetime(2014, 11, 10, 0, 0)),\n",
       "             ('cancel_date', datetime.datetime(2015, 1, 14, 0, 0)),\n",
       "             ('days_to_cancel', 65),\n",
       "             ('is_udacity', True),\n",
       "             ('is_canceled', True)])"
      ]
     },
     "execution_count": 3,
     "metadata": {},
     "output_type": "execute_result"
    }
   ],
   "source": [
    "from datetime import datetime as dt\n",
    "\n",
    "# Takes a date as a string, and returns a Python datetime object. \n",
    "# If there is no date given, returns None\n",
    "def parse_date(date):\n",
    "    if date == '':\n",
    "        return None\n",
    "    else:\n",
    "        return dt.strptime(date, '%Y-%m-%d')\n",
    "    \n",
    "# Takes a string which is either an empty string or represents an integer,\n",
    "# and returns an int or None.\n",
    "def parse_maybe_int(i):\n",
    "    if i == '':\n",
    "        return None\n",
    "    else:\n",
    "        return int(i)\n",
    "\n",
    "# Clean up the data types in the enrollments table\n",
    "for enrollment in enrollments:\n",
    "    enrollment['cancel_date'] = parse_date(enrollment['cancel_date'])\n",
    "    enrollment['days_to_cancel'] = parse_maybe_int(enrollment['days_to_cancel'])\n",
    "    enrollment['is_canceled'] = enrollment['is_canceled'] == 'True'\n",
    "    enrollment['is_udacity'] = enrollment['is_udacity'] == 'True'\n",
    "    enrollment['join_date'] = parse_date(enrollment['join_date'])\n",
    "    \n",
    "enrollments[0]"
   ]
  },
  {
   "cell_type": "code",
   "execution_count": 4,
   "metadata": {
    "collapsed": false
   },
   "outputs": [
    {
     "data": {
      "text/plain": [
       "OrderedDict([('acct', '0'),\n",
       "             ('utc_date', datetime.datetime(2015, 1, 9, 0, 0)),\n",
       "             ('num_courses_visited', 1),\n",
       "             ('total_minutes_visited', 11.6793745),\n",
       "             ('lessons_completed', 0),\n",
       "             ('projects_completed', 0)])"
      ]
     },
     "execution_count": 4,
     "metadata": {},
     "output_type": "execute_result"
    }
   ],
   "source": [
    "# Clean up the data types in the engagement table\n",
    "for engagement_record in daily_engagement:\n",
    "    engagement_record['lessons_completed'] = int(float(engagement_record['lessons_completed']))\n",
    "    engagement_record['num_courses_visited'] = int(float(engagement_record['num_courses_visited']))\n",
    "    engagement_record['projects_completed'] = int(float(engagement_record['projects_completed']))\n",
    "    engagement_record['total_minutes_visited'] = float(engagement_record['total_minutes_visited'])\n",
    "    engagement_record['utc_date'] = parse_date(engagement_record['utc_date'])\n",
    "    \n",
    "daily_engagement[0]"
   ]
  },
  {
   "cell_type": "code",
   "execution_count": 5,
   "metadata": {
    "collapsed": false
   },
   "outputs": [
    {
     "data": {
      "text/plain": [
       "OrderedDict([('creation_date', datetime.datetime(2015, 1, 14, 0, 0)),\n",
       "             ('completion_date', datetime.datetime(2015, 1, 16, 0, 0)),\n",
       "             ('assigned_rating', 'UNGRADED'),\n",
       "             ('account_key', '256'),\n",
       "             ('lesson_key', '3176718735'),\n",
       "             ('processing_state', 'EVALUATED')])"
      ]
     },
     "execution_count": 5,
     "metadata": {},
     "output_type": "execute_result"
    }
   ],
   "source": [
    "# Clean up the data types in the submissions table\n",
    "for submission in project_submissions:\n",
    "    submission['completion_date'] = parse_date(submission['completion_date'])\n",
    "    submission['creation_date'] = parse_date(submission['creation_date'])\n",
    "\n",
    "project_submissions[0]"
   ]
  },
  {
   "cell_type": "markdown",
   "metadata": {},
   "source": [
    "Note when running the above cells that we are actively changing the contents of our data variables. If you try to run these cells multiple times in the same session, an error will occur.\n",
    "\n",
    "## Investigating the Data"
   ]
  },
  {
   "cell_type": "code",
   "execution_count": 6,
   "metadata": {
    "collapsed": false
   },
   "outputs": [],
   "source": [
    "#####################################\n",
    "#                 3                 #\n",
    "#####################################\n",
    "\n",
    "## Rename the \"acct\" column in the daily_engagement table to \"account_key\".\n",
    "for engagement_record in daily_engagement:\n",
    "    engagement_record['account_key'] = engagement_record['acct']\n",
    "    del(engagement_record['acct'])"
   ]
  },
  {
   "cell_type": "code",
   "execution_count": 7,
   "metadata": {
    "collapsed": true
   },
   "outputs": [],
   "source": [
    "def get_unique_students(data):\n",
    "    unique_students = set()\n",
    "    for data_point in data:\n",
    "        unique_students.add(data_point['account_key'])\n",
    "    return unique_students"
   ]
  },
  {
   "cell_type": "code",
   "execution_count": 8,
   "metadata": {
    "collapsed": false
   },
   "outputs": [
    {
     "data": {
      "text/plain": [
       "1640"
      ]
     },
     "execution_count": 8,
     "metadata": {},
     "output_type": "execute_result"
    }
   ],
   "source": [
    "#####################################\n",
    "#                 2                 #\n",
    "#####################################\n",
    "\n",
    "## Find the total number of rows and the number of unique students (account keys)\n",
    "## in each table.\n",
    "len(enrollments)"
   ]
  },
  {
   "cell_type": "code",
   "execution_count": 9,
   "metadata": {
    "collapsed": false
   },
   "outputs": [
    {
     "data": {
      "text/plain": [
       "1302"
      ]
     },
     "execution_count": 9,
     "metadata": {},
     "output_type": "execute_result"
    }
   ],
   "source": [
    "unique_enrolled_students = get_unique_students(enrollments)\n",
    "\n",
    "len(unique_enrolled_students)"
   ]
  },
  {
   "cell_type": "code",
   "execution_count": 10,
   "metadata": {
    "collapsed": false
   },
   "outputs": [
    {
     "data": {
      "text/plain": [
       "136240"
      ]
     },
     "execution_count": 10,
     "metadata": {},
     "output_type": "execute_result"
    }
   ],
   "source": [
    "len(daily_engagement)"
   ]
  },
  {
   "cell_type": "code",
   "execution_count": 11,
   "metadata": {
    "collapsed": false
   },
   "outputs": [
    {
     "data": {
      "text/plain": [
       "1237"
      ]
     },
     "execution_count": 11,
     "metadata": {},
     "output_type": "execute_result"
    }
   ],
   "source": [
    "unique_engagement_students = get_unique_students(daily_engagement)\n",
    "\n",
    "len(unique_engagement_students)"
   ]
  },
  {
   "cell_type": "code",
   "execution_count": 12,
   "metadata": {
    "collapsed": false
   },
   "outputs": [
    {
     "data": {
      "text/plain": [
       "3642"
      ]
     },
     "execution_count": 12,
     "metadata": {},
     "output_type": "execute_result"
    }
   ],
   "source": [
    "len(project_submissions)"
   ]
  },
  {
   "cell_type": "code",
   "execution_count": 13,
   "metadata": {
    "collapsed": false
   },
   "outputs": [
    {
     "data": {
      "text/plain": [
       "743"
      ]
     },
     "execution_count": 13,
     "metadata": {},
     "output_type": "execute_result"
    }
   ],
   "source": [
    "unique_project_submitter = get_unique_students(project_submissions)\n",
    "\n",
    "len(unique_project_submitter)"
   ]
  },
  {
   "cell_type": "markdown",
   "metadata": {},
   "source": [
    "## Problems in the Data"
   ]
  },
  {
   "cell_type": "code",
   "execution_count": 14,
   "metadata": {
    "collapsed": false
   },
   "outputs": [
    {
     "name": "stdout",
     "output_type": "stream",
     "text": [
      "OrderedDict([('utc_date', datetime.datetime(2015, 1, 9, 0, 0)), ('num_courses_visited', 1), ('total_minutes_visited', 11.6793745), ('lessons_completed', 0), ('projects_completed', 0), ('account_key', '0')])\n"
     ]
    }
   ],
   "source": [
    "print(daily_engagement[0])"
   ]
  },
  {
   "cell_type": "markdown",
   "metadata": {},
   "source": [
    "## Missing Engagement Records"
   ]
  },
  {
   "cell_type": "code",
   "execution_count": 15,
   "metadata": {
    "collapsed": false
   },
   "outputs": [
    {
     "name": "stdout",
     "output_type": "stream",
     "text": [
      "OrderedDict([('account_key', '1219'), ('status', 'canceled'), ('join_date', datetime.datetime(2014, 11, 12, 0, 0)), ('cancel_date', datetime.datetime(2014, 11, 12, 0, 0)), ('days_to_cancel', 0), ('is_udacity', False), ('is_canceled', True)])\n"
     ]
    }
   ],
   "source": [
    "#####################################\n",
    "#                 4                 #\n",
    "#####################################\n",
    "\n",
    "## Find any one student enrollments where the student is missing from the daily engagement table.\n",
    "## Output that enrollment.\n",
    "\n",
    "for enrollment in enrollments:\n",
    "    student = enrollment['account_key']\n",
    "    if student not in unique_engagement_students:\n",
    "        print(enrollment)\n",
    "        break"
   ]
  },
  {
   "cell_type": "markdown",
   "metadata": {},
   "source": [
    "## Checking for More Problem Records"
   ]
  },
  {
   "cell_type": "code",
   "execution_count": 16,
   "metadata": {
    "collapsed": false
   },
   "outputs": [
    {
     "name": "stdout",
     "output_type": "stream",
     "text": [
      "3\n"
     ]
    }
   ],
   "source": [
    "#####################################\n",
    "#                 5                 #\n",
    "#####################################\n",
    "\n",
    "## Find the number of surprising data points (enrollments missing from\n",
    "## the engagement table) that remain, if any.\n",
    "\n",
    "num_problem_students = 0\n",
    "\n",
    "for enrollment in enrollments:\n",
    "    student = enrollment['account_key']\n",
    "    if student not in unique_engagement_students and enrollment['join_date'] != enrollment['cancel_date']:\n",
    "        num_problem_students += 1\n",
    "        \n",
    "print(num_problem_students)"
   ]
  },
  {
   "cell_type": "markdown",
   "metadata": {},
   "source": [
    "## Tracking Down the Remaining Problems"
   ]
  },
  {
   "cell_type": "code",
   "execution_count": 17,
   "metadata": {
    "collapsed": false
   },
   "outputs": [
    {
     "data": {
      "text/plain": [
       "6"
      ]
     },
     "execution_count": 17,
     "metadata": {},
     "output_type": "execute_result"
    }
   ],
   "source": [
    "# Create a set of the account keys for all Udacity test accounts\n",
    "udacity_test_accounts = set()\n",
    "for enrollment in enrollments:\n",
    "    if enrollment['is_udacity']:\n",
    "        udacity_test_accounts.add(enrollment['account_key'])\n",
    "len(udacity_test_accounts)"
   ]
  },
  {
   "cell_type": "code",
   "execution_count": 18,
   "metadata": {
    "collapsed": true
   },
   "outputs": [],
   "source": [
    "# Given some data with an account_key field, removes any records corresponding to Udacity test accounts\n",
    "def remove_udacity_accounts(data):\n",
    "    non_udacity_data = []\n",
    "    for data_point in data:\n",
    "        if data_point['account_key'] not in udacity_test_accounts:\n",
    "            non_udacity_data.append(data_point)\n",
    "    return non_udacity_data"
   ]
  },
  {
   "cell_type": "code",
   "execution_count": 19,
   "metadata": {
    "collapsed": false
   },
   "outputs": [
    {
     "name": "stdout",
     "output_type": "stream",
     "text": [
      "1622\n",
      "135656\n",
      "3634\n"
     ]
    }
   ],
   "source": [
    "# Remove Udacity test accounts from all three tables\n",
    "non_udacity_enrollments = remove_udacity_accounts(enrollments)\n",
    "non_udacity_engagement = remove_udacity_accounts(daily_engagement)\n",
    "non_udacity_submissions = remove_udacity_accounts(project_submissions)\n",
    "\n",
    "print(len(non_udacity_enrollments))\n",
    "print(len(non_udacity_engagement))\n",
    "print(len(non_udacity_submissions))"
   ]
  },
  {
   "cell_type": "markdown",
   "metadata": {},
   "source": [
    "## Refining the Question"
   ]
  },
  {
   "cell_type": "code",
   "execution_count": 20,
   "metadata": {
    "collapsed": false
   },
   "outputs": [
    {
     "data": {
      "text/plain": [
       "995"
      ]
     },
     "execution_count": 20,
     "metadata": {},
     "output_type": "execute_result"
    }
   ],
   "source": [
    "#####################################\n",
    "#                 6                 #\n",
    "#####################################\n",
    "\n",
    "## Create a dictionary named paid_students containing all students who either\n",
    "## haven't canceled yet or who remained enrolled for more than 7 days. The keys\n",
    "## should be account keys, and the values should be the date the student enrolled.\n",
    "\n",
    "paid_students = {}\n",
    "\n",
    "for enrollment in non_udacity_enrollments:\n",
    "    if not enrollment['is_canceled'] or enrollment['days_to_cancel'] > 7:\n",
    "        account_key = enrollment['account_key']\n",
    "        enrollment_date = enrollment['join_date']\n",
    "        \n",
    "        if account_key not in paid_students or enrollment_date > paid_students[account_key]:\n",
    "            paid_students[account_key] = enrollment_date\n",
    "    \n",
    "len(paid_students)"
   ]
  },
  {
   "cell_type": "markdown",
   "metadata": {},
   "source": [
    "## Getting Data from First Week"
   ]
  },
  {
   "cell_type": "code",
   "execution_count": 21,
   "metadata": {
    "collapsed": true
   },
   "outputs": [],
   "source": [
    "# Takes a student's join date and the date of a specific engagement record,\n",
    "# and returns True if that engagement record happened within one week\n",
    "# of the student joining.\n",
    "def within_one_week(join_date, engagement_date):\n",
    "    time_delta = engagement_date - join_date\n",
    "    return time_delta.days < 7 and time_delta.days >=0"
   ]
  },
  {
   "cell_type": "code",
   "execution_count": 22,
   "metadata": {
    "collapsed": true
   },
   "outputs": [],
   "source": [
    "def remove_free_trial_cancels(data):\n",
    "    new_data = []\n",
    "    for data_point in data:\n",
    "        if data_point['account_key'] in paid_students:\n",
    "            new_data.append(data_point)\n",
    "    return new_data"
   ]
  },
  {
   "cell_type": "code",
   "execution_count": 23,
   "metadata": {
    "collapsed": false
   },
   "outputs": [
    {
     "name": "stdout",
     "output_type": "stream",
     "text": [
      "1293\n",
      "134549\n",
      "3618\n"
     ]
    }
   ],
   "source": [
    "paid_enrollments = remove_free_trial_cancels(non_udacity_enrollments)\n",
    "paid_engagement = remove_free_trial_cancels(non_udacity_engagement)\n",
    "paid_submissions = remove_free_trial_cancels(non_udacity_submissions)\n",
    "\n",
    "print(len(paid_enrollments))\n",
    "print(len(paid_engagement))\n",
    "print(len(paid_submissions))"
   ]
  },
  {
   "cell_type": "code",
   "execution_count": 24,
   "metadata": {
    "collapsed": true
   },
   "outputs": [],
   "source": [
    "for engagement_record in paid_engagement:\n",
    "    if engagement_record['num_courses_visited'] > 0:\n",
    "        engagement_record['has_visited'] = 1\n",
    "    else:\n",
    "        engagement_record['has_visited'] = 0"
   ]
  },
  {
   "cell_type": "code",
   "execution_count": 25,
   "metadata": {
    "collapsed": false
   },
   "outputs": [
    {
     "data": {
      "text/plain": [
       "6919"
      ]
     },
     "execution_count": 25,
     "metadata": {},
     "output_type": "execute_result"
    }
   ],
   "source": [
    "#####################################\n",
    "#                 7                 #\n",
    "#####################################\n",
    "\n",
    "## Create a list of rows from the engagement table including only rows where\n",
    "## the student is one of the paid students you just found, and the date is within\n",
    "## one week of the student's join date.\n",
    "\n",
    "paid_engagement_in_first_week = []\n",
    "\n",
    "for engagement_record in paid_engagement:\n",
    "    account_key = engagement_record['account_key']\n",
    "    join_date = paid_students[account_key]\n",
    "    engagement_record_date = engagement_record['utc_date']\n",
    "    \n",
    "    if within_one_week(join_date, engagement_record_date):\n",
    "        paid_engagement_in_first_week.append(engagement_record)\n",
    "\n",
    "len(paid_engagement_in_first_week)\n",
    "    "
   ]
  },
  {
   "cell_type": "markdown",
   "metadata": {},
   "source": [
    "## Exploring Student Engagement"
   ]
  },
  {
   "cell_type": "code",
   "execution_count": 26,
   "metadata": {
    "collapsed": true
   },
   "outputs": [],
   "source": [
    "from collections import defaultdict\n",
    "\n",
    "# Create a dictionary of engagement grouped by student.\n",
    "# The keys are account keys, and the values are lists of engagement records.\n",
    "engagement_by_account = defaultdict(list)\n",
    "for engagement_record in paid_engagement_in_first_week:\n",
    "    account_key = engagement_record['account_key']\n",
    "    engagement_by_account[account_key].append(engagement_record)"
   ]
  },
  {
   "cell_type": "code",
   "execution_count": 27,
   "metadata": {
    "collapsed": false
   },
   "outputs": [],
   "source": [
    "# Create a dictionary with the total minutes each student spent in the classroom during the first week.\n",
    "# The keys are account keys, and the values are numbers (total minutes)\n",
    "total_minutes_by_account = {}\n",
    "for account_key, engagement_for_student in engagement_by_account.items():\n",
    "    total_minutes = 0\n",
    "    for engagement_record in engagement_for_student:\n",
    "        total_minutes += engagement_record['total_minutes_visited']\n",
    "    total_minutes_by_account[account_key] = total_minutes"
   ]
  },
  {
   "cell_type": "code",
   "execution_count": 28,
   "metadata": {
    "collapsed": false
   },
   "outputs": [
    {
     "name": "stdout",
     "output_type": "stream",
     "text": [
      "{'0': 494.88049616599994, '1': 18.576384666670002, '2': 0.0, '3': 0.0, '4': 33.3214046667, '5': 329.7578566663, '6': 780.4545511666701, '7': 104.20388850009999, '8': 989.113641833, '9': 448.471384167, '10': 130.12347833367, '11': 0.0, '12': 179.4719088333, '13': 1013.3833969996999, '14': 65.6221875, '15': 983.375040335, '16': 119.12030049999998, '17': 235.49969150033, '18': 155.1361575, '19': 0.0, '20': 447.93897783336996, '21': 931.1036911666699, '22': 657.2052335000001, '23': 1591.3228143334, '24': 943.188117167, '25': 0.0, '26': 430.801675833, '27': 1579.12122666663, '28': 766.256315667, '29': 556.1906033333, '30': 69.6578351667, '31': 0.0, '32': 123.2915048333, '33': 253.9870258334, '34': 180.413814, '35': 765.6402170004, '36': 809.2138958339, '37': 1378.195091668, '38': 0.0, '39': 1001.5888595, '40': 478.21952616690004, '41': 511.925391, '42': 576.4643026663, '43': 88.822038, '44': 0.0, '45': 0.0, '46': 26.1189351667, '47': 854.8288881656, '48': 1055.6871896667, '49': 0.0, '50': 491.9087078335, '51': 0.0, '52': 3.22752383333, '53': 401.97479050029995, '54': 427.764673834, '55': 589.6171318323301, '56': 106.72208133333001, '57': 91.3514995, '58': 1024.109326834, '59': 47.1679638333, '60': 0.0, '61': 496.99219366667, '62': 293.383122167, '63': 465.58233333400005, '64': 346.5030268336, '65': 422.27366000010005, '66': 6.95969283333, '67': 856.8375048337, '68': 0.0, '69': 0.0, '70': 310.04241416702996, '71': 53.5545175, '72': 704.5521115003299, '73': 0.0, '74': 90.48065633329999, '75': 20.8106506667, '76': 186.549237333, '77': 231.80801666640002, '78': 0.0, '79': 416.49598383333, '80': 106.2245978334, '81': 227.6363853331, '82': 537.5285965007, '83': 293.4918854997, '84': 752.4780518326, '85': 500.4921706667001, '86': 0.0, '87': 1035.306503999, '88': 0.0, '89': 63.79716583327, '90': 114.43403466663, '91': 84.9883638333, '92': 611.3200641666999, '93': 751.2236896667, '94': 0.0, '96': 45.3963998333, '97': 8.46994183333, '98': 525.6444536663, '99': 317.10422516660003, '100': 145.70615016660003, '101': 148.7306783333, '102': 277.0299235, '103': 1075.0625133337, '104': 839.123771167, '105': 312.1800340007, '106': 29.0687406666, '107': 171.2928940001, '108': 164.27089083347, '109': 1167.52455983297, '110': 1214.55291799937, '111': 169.159592167, '112': 388.23059683327006, '113': 83.7769855, '114': 186.94018933324, '115': 167.606683, '116': 886.0703749999001, '117': 129.2449371666, '118': 891.8733579995999, '119': 672.9427816664, '120': 266.1378745, '121': 285.36239183329997, '122': 530.1415103337, '123': 0.0, '124': 51.0695815, '125': 1410.5316330013002, '126': 33.4956098333, '127': 334.5606256663, '128': 743.1407118340001, '129': 101.387314333, '130': 0.0, '131': 0.0, '132': 1196.803629999, '133': 80.2133103333, '134': 1017.1034851664001, '135': 613.2567715002999, '136': 34.1685658333, '137': 696.2475044997, '138': 90.3995656667, '139': 86.4587005, '140': 2050.1156751667004, '141': 544.992658666, '142': 201.21822283370003, '143': 405.0228675003, '144': 384.69492683359994, '145': 893.4411686660001, '146': 11.554518, '147': 0.0, '148': 0.0, '149': 56.835209, '150': 414.14088366667, '151': 908.4660900005999, '152': 745.1146233329999, '153': 116.8988095, '154': 736.9791355, '155': 0.0, '156': 635.5124964993, '157': 8.3032715, '158': 0.0, '159': 0.0, '160': 630.1675615003, '161': 531.8882431671, '162': 532.6464248333, '163': 3564.7332644989997, '164': 765.55279683203, '165': 962.5736773336, '166': 0.0, '167': 0.0, '168': 120.87673000033001, '169': 92.5594045, '170': 586.7042849994001, '171': 1887.391213833, '172': 589.8798286670001, '173': 12.9807116667, '174': 414.12743866659997, '175': 2375.7954986677, '176': 1051.5771371676, '177': 570.776941833, '178': 783.3383063341, '179': 913.6758890002999, '180': 95.4642313333, '181': 651.9806806667, '182': 310.2486779997, '183': 418.01940599970004, '184': 247.9964674996, '185': 0.0, '186': 601.3632028330001, '187': 629.3766914993301, '188': 6.20617616667, '189': 1251.6466043334, '190': 7.94751166667, '191': 137.2655706667, '192': 402.42499849989997, '193': 121.07599299993, '194': 315.44705699977, '195': 1166.4244791677, '196': 383.1542506668, '197': 931.3076661670001, '198': 809.546996001, '199': 1452.709982333, '200': 448.5325424996, '201': 0.0, '202': 219.2389440004, '203': 605.7708455, '204': 686.7681608344001, '205': 315.34049566659996, '206': 633.1473566663, '207': 114.39214366666, '208': 356.77551816640005, '209': 4.55604183333, '210': 421.2835453327, '211': 593.1472776666001, '212': 168.3080953333, '213': 836.3458141666999, '214': 30.3670653333, '215': 662.64059800003, '216': 58.36346116669999, '217': 0.0, '218': 2393.5421573319004, '219': 272.6840003337, '220': 467.6978279993, '221': 178.70479883369998, '222': 241.8322233337, '223': 151.60938049966, '224': 30.647238166630004, '225': 247.9695998334, '226': 439.05929566669994, '227': 485.78090949999995, '228': 360.4108591662, '229': 131.7264965, '230': 197.41214399993, '231': 9.75699783333, '232': 1168.2526861667002, '233': 197.0435864997, '234': 931.3838908327, '235': 0.0, '236': 467.5716475007, '237': 704.5008775003, '238': 330.1826238337, '239': 40.220247, '240': 0.0, '241': 288.9210591667, '242': 554.59261383367, '243': 46.605140666699995, '244': 123.5804105, '245': 669.9961104997, '246': 277.3369746671, '248': 183.134135333, '249': 877.8003651663, '250': 284.6907063333, '251': 175.613687167, '252': 343.35795733340007, '253': 0.0, '254': 600.5757328336, '255': 221.72389316627002, '256': 0.0, '257': 39.485681500000005, '258': 595.2719906673, '259': 736.3565788330001, '260': 638.934161833, '261': 0.0, '262': 42.4569508333, '263': 417.4064971669, '264': 110.09569266679999, '265': 371.26458716729996, '266': 1420.1479191659998, '267': 211.5840809997, '268': 314.3331800003, '269': 322.475557667, '270': 1020.3306876671, '271': 830.83625116633, '272': 1203.2224428333002, '273': 70.48434450007001, '274': 1435.0160603327001, '275': 44.477798999970005, '276': 429.03252133340004, '277': 884.915487, '278': 0.0, '279': 143.048056833, '280': 255.53718516670003, '281': 0.0, '282': 570.5658495, '283': 269.194508, '284': 302.608719833, '285': 109.141489, '286': 195.9300631667, '287': 283.36202233326, '288': 4.58531166667, '289': 955.78319766497, '290': 442.37721166627, '291': 0.0, '292': 192.665344, '293': 497.8218254996, '294': 405.600248833, '295': 421.6092228329, '296': 199.06043566667, '297': 338.67828999970004, '298': 213.4699951663, '299': 0.0, '300': 88.12990766662999, '301': 669.9500983341, '302': 165.37368716699999, '303': 2700.4878774989998, '304': 194.7560403337, '305': 538.88974533303, '306': 0.0, '307': 4.19664316667, '308': 554.8758693333999, '309': 150.7999871667, '310': 843.170594833, '311': 59.239222, '313': 888.6124170002998, '314': 1341.720517667, '315': 657.0126268326, '316': 1735.943607166, '317': 2778.3161446706704, '318': 196.3044158337, '319': 343.6706583329, '320': 859.426280833, '321': 0.0, '322': 0.0, '323': 397.24734133329997, '324': 1669.9007213329999, '325': 370.8747679997, '326': 1426.2515225012999, '327': 355.96292199997, '328': 667.7495933323299, '329': 638.196504333, '330': 187.9226685, '331': 501.941580166, '332': 124.52342500033, '333': 129.087694, '334': 0.0, '335': 855.4038108340001, '336': 278.6769970004, '337': 0.0, '338': 13.2610473333, '339': 0.0, '340': 392.473794834, '341': 35.531418, '342': 0.0, '343': 83.295313, '344': 614.9778563333, '345': 246.61175300029998, '346': 248.12435916639998, '347': 713.3479524992999, '348': 0.0, '349': 211.3875440003, '350': 107.74437683336001, '351': 320.97561616674, '352': 729.8468485, '353': 122.07255516670001, '354': 609.2861186673, '355': 944.5557876659999, '356': 64.7772518334, '357': 105.06483083340001, '358': 71.4977216667, '359': 2530.5614099997, '360': 677.2790736659999, '361': 1053.7764165013, '362': 58.3151085, '363': 0.0, '364': 0.0, '365': 37.6347753333, '366': 23.55166316667, '367': 220.21062866679998, '368': 817.9997333323399, '369': 42.3843405, '370': 0.0, '371': 4.24015233333, '372': 197.066153, '373': 532.5829673333, '374': 30.5476253333, '375': 506.55911883299996, '376': 65.9101326667, '377': 803.3391453328, '378': 0.0, '379': 391.3939735, '380': 51.9296121667, '381': 0.0, '382': 73.6446115, '383': 212.1774728337, '384': 925.7537420007, '385': 446.4724451667, '386': 0.0, '387': 0.0, '388': 1208.05215466633, '389': 131.7464566667, '390': 137.9929768333, '391': 0.0, '392': 427.5369333332, '393': 3.3318835, '394': 808.5665558337, '395': 2.17768916667, '396': 0.0, '397': 34.50448516667, '398': 12.05914466667, '399': 177.5920131668, '400': 239.61664966700002, '401': 0.0, '402': 0.0, '403': 604.355107166, '404': 611.4195701674, '405': 741.2804391669999, '406': 57.2638435, '407': 500.9127926667, '408': 59.7725306667, '409': 364.480768, '410': 951.118714666, '411': 0.0, '412': 55.49376599997, '413': 578.9502861663, '414': 68.0673978333, '415': 0.0, '416': 722.84210483367, '417': 22.14904683337, '418': 86.7824926667, '419': 6.72066133333, '420': 96.80278150000001, '421': 357.275143834, '422': 311.1889536663, '423': 127.15142850000001, '424': 0.0, '425': 975.587918167, '426': 0.0, '427': 413.5420181666, '428': 726.26075933267, '429': 0.0, '430': 1024.0636758326, '431': 77.9742268333, '432': 437.22883383330003, '433': 81.51043433337, '434': 696.5725646662999, '435': 433.22729549969995, '436': 858.37418699973, '437': 39.4918656667, '438': 363.94914149996, '439': 847.38115366667, '440': 45.9874008334, '441': 1065.2951291673999, '442': 184.162204667, '443': 1001.813550333, '444': 0.0, '445': 46.3023048333, '446': 90.90472849993, '447': 119.916663667, '449': 20.247478, '450': 1096.72738949933, '451': 79.9306696666, '452': 36.434234, '453': 514.86060716603, '454': 141.19407999967, '455': 438.50690233336, '456': 27.37808133337, '457': 547.552952834, '458': 0.0, '459': 943.8555468324001, '460': 116.03298466660002, '461': 89.6344988334, '462': 749.194206334, '463': 633.4301786670001, '464': 503.05470083299997, '465': 53.1803671667, '466': 131.94636750003, '467': 207.27739616670002, '468': 224.91582050030001, '469': 884.7240451653, '471': 68.2496686666, '472': 174.4431463334, '473': 0.0, '474': 285.75573750030003, '475': 164.161086, '476': 46.6148, '477': 779.5860966676, '478': 4.45095966667, '479': 316.43186650009994, '480': 0.0, '481': 599.325108667, '482': 29.5289625001, '483': 716.3825241659999, '484': 18.786721, '485': 411.84511316623, '486': 188.8958254999, '487': 551.1900968329701, '488': 101.401498833, '489': 829.9734088337, '490': 32.447970500029996, '491': 640.0351108333, '492': 0.0, '493': 586.7405209996, '494': 591.1435670003, '495': 414.253240333, '496': 1217.1688571673, '497': 448.741092333, '498': 385.2513571667001, '499': 367.3854126667, '500': 229.2620115, '501': 32.8227305, '502': 504.04492916670006, '503': 2.8138905, '504': 388.7726185, '505': 459.3740381662999, '506': 75.8750386667, '507': 92.3539813334, '508': 736.5973803337, '509': 307.0653258337, '510': 143.78600349967, '511': 493.53649199967003, '512': 4.26499566667, '513': 626.2345113327, '514': 62.84829066659999, '515': 265.47810483300003, '516': 454.17951166700004, '517': 1381.1028195004, '518': 980.5763799994, '519': 231.0283105, '520': 109.5149769999, '521': 406.0453698336, '522': 303.55134400000003, '523': 61.33310733329999, '524': 0.0, '525': 0.0, '526': 670.3438828333, '527': 256.4187193326, '528': 514.0743979996, '529': 0.0, '530': 1896.7540938320003, '531': 594.0435458336, '532': 422.6295078334, '533': 455.19857933369997, '534': 609.6590520007001, '535': 629.7823334996999, '536': 0.0, '537': 30.6256575, '538': 7.1116735, '539': 172.5712248333, '540': 440.96130916723, '541': 20.879544833329998, '542': 1036.951593167, '543': 183.7893518334, '544': 1421.7436063333, '545': 307.7543378337, '546': 41.7786686667, '547': 0.0, '548': 769.207330667, '549': 32.0522478333, '550': 18.9512853333, '551': 0.0, '552': 932.3012898327, '553': 507.1024986672999, '554': 272.16654083369997, '555': 294.34356566670004, '556': 187.25140866697, '557': 1245.8182150003, '558': 0.0, '559': 105.24544450007, '560': 61.7853381666, '561': 52.4319528333, '562': 326.448714, '563': 21.972605, '564': 18.4937245, '565': 518.1875990003, '566': 133.319127167, '567': 321.3727448333, '568': 28.9028346666, '569': 1477.0239483322998, '570': 173.9382718334, '571': 0.0, '572': 907.111293668, '573': 924.2469394994, '574': 0.0, '575': 400.8135763341, '576': 911.11994133237, '577': 120.55847799993, '578': 28.5667518333, '579': 298.253430333, '580': 712.1588875006701, '581': 122.48917700033, '582': 2.4822425, '583': 762.169280667, '584': 0.0, '585': 535.00554450033, '586': 77.7392298333, '587': 9.64132116667, '588': 84.6351145, '589': 4.56274816667, '590': 0.0, '591': 0.0, '592': 488.40353200030006, '593': 0.0, '594': 0.0, '595': 335.5259626667, '596': 311.07236283327, '597': 1047.649452501, '598': 399.2498304993, '599': 146.89298433300002, '600': 24.87366349997, '601': 0.0, '602': 615.9597956661, '603': 207.9139188337, '604': 1890.9937024994, '605': 218.3752333334, '606': 456.3332818333, '607': 547.7397464997, '608': 248.29428850003, '609': 73.7238143333, '610': 653.1940411656001, '611': 382.93037050067, '612': 52.9136506667, '613': 545.9623025, '614': 101.1193401667, '615': 108.47527400000001, '616': 321.2057135, '617': 432.987765666, '618': 513.8126981664001, '619': 1482.9020456663002, '620': 557.5625511664, '621': 204.02415449966998, '622': 396.82058733329995, '623': 230.70437450010002, '624': 1026.8480728333, '625': 0.0, '626': 95.1225038333, '627': 1047.4820013337, '628': 203.3427993337, '629': 374.365616, '630': 394.5387589999, '631': 237.7646521667, '632': 84.558989, '633': 1689.189059835, '634': 223.73943383300002, '635': 80.5941101667, '636': 169.3917738333, '637': 89.0572956666, '639': 416.14186616669997, '640': 0.0, '641': 340.70627749999994, '642': 421.960349833, '643': 793.6706421670001, '644': 488.3752611667, '645': 847.3979861667, '646': 264.5287276666, '647': 73.5741316667, '648': 129.1323983333, '649': 700.4743598327, '650': 114.84451633329999, '651': 1346.7158483327, '652': 479.86306116670005, '653': 736.4371648339999, '655': 177.8367486667, '656': 0.0, '657': 0.0, '660': 193.848226, '661': 92.5547231666, '665': 0.0, '666': 138.052647, '667': 144.1243173333, '669': 0.0, '670': 454.273163499, '671': 115.15559099992998, '672': 32.816891, '673': 348.39415716703, '674': 171.593366833, '676': 16.5745846667, '678': 100.0702155, '682': 25.243540000000003, '686': 9.61211033333, '687': 18.889756499999997, '689': 0.0, '690': 0.0, '692': 16.604203, '693': 0.0, '694': 198.6962631669, '696': 666.3290910003, '697': 88.1119545, '698': 56.45108966666999, '702': 0.0, '704': 0.0, '705': 0.0, '706': 1329.9598305, '709': 88.0103965, '710': 3.56199133333, '712': 253.23675750029997, '713': 139.060529, '715': 307.3006509996, '718': 0.0, '719': 9.4907925, '720': 401.81893949967, '722': 29.9067615, '726': 21.1284496667, '729': 0.0, '730': 41.7199715, '732': 219.926066667, '735': 0.0, '736': 313.50181033333, '742': 489.7736965, '743': 0.0, '744': 374.5761038331, '746': 706.5435295006, '747': 0.0, '748': 324.6302378336, '751': 52.1289673334, '752': 30.5951761667, '753': 116.628876833, '754': 413.3262124997, '755': 34.0330873333, '756': 0.0, '757': 354.6223496663, '759': 0.0, '761': 100.06368333333, '762': 85.29257, '764': 59.340783666700005, '769': 135.6825435, '771': 275.16640700005996, '773': 0.0, '776': 0.0, '777': 199.31994916669998, '778': 48.1974151667, '779': 4.2604045, '780': 0.0, '781': 0.0, '782': 277.8489021664, '784': 176.3818004999, '785': 4.78649716667, '786': 23.695871500029998, '787': 0.0, '791': 417.953548167, '792': 1369.641421833, '793': 0.0, '794': 146.9410850001, '796': 0.0, '797': 0.0, '798': 397.8826263333, '800': 122.87407133333, '801': 0.0, '804': 22.7346656667, '805': 84.1050015, '806': 49.937148999970006, '808': 106.2993215, '811': 1138.3177014993998, '812': 1764.5367983344001, '816': 0.0, '822': 2.30081433333, '823': 0.0, '824': 260.47024649996, '825': 27.3957285, '828': 345.17664533360005, '829': 129.762569, '831': 51.016355999999995, '832': 0.0, '833': 2.38093233333, '834': 21.5715365, '835': 0.0, '836': 29.38455616663, '839': 13.587055, '840': 0.0, '843': 924.060058833, '844': 817.60166266567, '846': 32.6861011667, '851': 58.5606146667, '852': 214.54059633330002, '853': 5.92106983333, '854': 64.29995600000001, '855': 92.6896001666, '856': 0.0, '857': 0.0, '858': 260.94864483347, '859': 2.54122166667, '864': 53.1295885, '866': 0.0, '867': 0.0, '868': 13.442560666670001, '872': 129.3303274997, '873': 30.2541315, '874': 49.7470893333, '877': 26.5230981667, '880': 15.5930261667, '882': 0.0, '883': 235.39055499926997, '885': 1403.366643835, '887': 62.78241916663, '888': 3.3880415, '893': 0.0, '896': 0.0, '897': 22.0889656667, '900': 0.0, '901': 26.5587726667, '905': 108.9832133333, '906': 5.75313916667, '909': 63.3749175, '912': 0.0, '913': 72.9583085, '916': 65.7383995, '918': 21.086721, '919': 663.5424139989, '920': 156.1449683333, '923': 0.0, '924': 209.96127933370002, '927': 125.44656916667, '928': 80.6559995, '931': 0.0, '932': 0.0, '934': 5.03956, '937': 160.1049253333, '938': 69.45209899999999, '939': 0.0, '940': 0.0, '941': 2.99934966667, '946': 131.70276883329998, '948': 94.3237553333, '950': 107.3523146666, '952': 120.657056167, '954': 91.64868466669999, '955': 240.5959745003, '956': 6.80688283333, '958': 0.0, '965': 666.393701501, '966': 8.08317416667, '967': 449.6269801663, '969': 24.9669023333, '972': 96.1137128333, '973': 42.35008283337, '975': 3.7103945, '976': 65.0527071667, '977': 3.35443916667, '979': 517.8334496674, '983': 0.0, '984': 68.4192841666, '985': 46.494977, '986': 182.85550433323, '988': 61.420162, '989': 0.0, '990': 106.08401216677001, '992': 39.0104288333, '1000': 180.025886167, '1001': 16.2005246667, '1002': 8.1809285, '1007': 0.0, '1009': 0.0, '1011': 118.71332966671, '1013': 4.3800225, '1014': 619.9953998326, '1015': 38.87817050003, '1019': 75.87298200000001, '1022': 0.0, '1028': 18.8601366667, '1029': 3.50885666667, '1030': 218.55650866673005, '1031': 11.741084, '1032': 13.899305166700001, '1033': 959.9534376661, '1036': 0.0, '1038': 0.0, '1040': 12.9824898333, '1042': 45.5670335, '1048': 0.0, '1049': 37.853095, '1050': 84.5200338333, '1052': 117.195806333, '1053': 81.4415533333, '1054': 0.0, '1055': 71.5736406667, '1056': 366.5285674997, '1058': 0.0, '1060': 1768.5227493319999, '1062': 366.3194163334, '1066': 0.0, '1067': 29.7377383333, '1070': 1309.1846301673, '1071': 0.0, '1072': 0.0, '1073': 35.81870033337, '1074': 0.0, '1075': 90.6038805, '1077': 152.213267167, '1080': 5.51051366667, '1081': 0.0, '1082': 51.1061375, '1087': 179.4080511666, '1088': 0.0, '1089': 53.190095, '1090': 0.0, '1094': 464.4721495011001, '1095': 30.0975526667, '1096': 269.29544283309997, '1098': 739.8981633335999, '1099': 108.8893720001, '1102': 0.0, '1103': 0.0, '1107': 73.6289658334, '1110': 52.90383883333, '1111': 0.0, '1113': 37.2096841667, '1115': 0.0, '1117': 0.0, '1118': 89.38367816659999, '1121': 20.21580533333, '1123': 12.6563396667, '1124': 0.0, '1128': 53.4711175, '1130': 137.6759001667, '1131': 693.148515833, '1136': 0.0, '1139': 321.75119083367, '1140': 129.85920366667, '1142': 0.0, '1143': 299.9208106657, '1144': 0.0, '1146': 105.57724800007, '1147': 28.805244, '1149': 876.6454899994, '1150': 150.810125167, '1151': 113.43918199967, '1153': 565.6616593333, '1154': 0.0, '1157': 0.0, '1160': 2.70408483333, '1161': 87.8123571667, '1163': 56.4237046666, '1167': 870.43417899963, '1170': 0.0, '1173': 55.7923973333, '1174': 76.1418825, '1175': 2.7094835, '1176': 754.5790381659999, '1177': 43.0449731666, '1178': 0.0, '1181': 42.3039228333, '1182': 63.1747861666, '1183': 258.849289167, '1185': 51.7192425, '1188': 200.75333083330003, '1189': 292.8858635, '1194': 168.1376205, '1198': 6.5907805, '1199': 4.71476416667, '1200': 696.57720983267, '1201': 395.022838667, '1202': 48.67926333336, '1204': 291.7782771666, '1205': 0.0, '1206': 76.7225691667, '1207': 26.4703245, '1208': 114.066953, '1209': 247.9447956666, '1210': 430.7856678337, '1211': 0.0, '1212': 0.0, '1214': 12.822523, '1215': 1360.7287001670002, '1216': 266.32487266671006, '1217': 100.837620167, '1220': 118.30495933329999, '1224': 61.0835323333, '1226': 0.0, '1227': 0.0, '1228': 0.0, '1231': 621.5755701662999, '1235': 172.77872349963, '1236': 0.0, '1242': 0.0, '1243': 62.9114363333, '1244': 53.5962256666, '1247': 79.19556549999999, '1248': 3.50918183333, '1249': 9.62371516667, '1250': 10.0058803333, '1251': 11.2880193333, '1253': 0.0, '1254': 187.32349033330001, '1257': 30.8061303333, '1259': 0.0, '1260': 0.0, '1262': 0.0, '1263': 383.99752900006996, '1264': 2.01734133333, '1265': 0.0, '1266': 0.0, '1267': 0.0, '1268': 11.3308886667, '1269': 4.79064933333, '1274': 438.5049581666, '1276': 62.8929255, '1277': 0.0, '1278': 0.0, '1282': 134.5242838333, '1285': 32.4256981667, '1287': 0.0, '1289': 5.45628333333, '1290': 78.787234, '1292': 233.20550333356, '1298': 143.91027249997, '1299': 0.0, '1302': 0.0, '1303': 0.0, '1305': 9.771473833329999}\n"
     ]
    }
   ],
   "source": [
    "print(total_minutes_by_account)"
   ]
  },
  {
   "cell_type": "code",
   "execution_count": 29,
   "metadata": {
    "collapsed": false
   },
   "outputs": [
    {
     "name": "stdout",
     "output_type": "stream",
     "text": [
      "Mean: 306.708326753\n",
      "Standard deviation: 412.996933409\n",
      "Minimum: 0.0\n",
      "Maximum: 3564.7332645\n"
     ]
    }
   ],
   "source": [
    "import numpy as np\n",
    "\n",
    "# Summarize the data about minutes spent in the classroom\n",
    "# total_minutes = total_minutes_by_account.values()\n",
    "total_minutes = np.array(list(total_minutes_by_account.values()))\n",
    "print('Mean:', np.mean(total_minutes))\n",
    "print('Standard deviation:', np.std(total_minutes))\n",
    "print('Minimum:', np.min(total_minutes))\n",
    "print('Maximum:', np.max(total_minutes))"
   ]
  },
  {
   "cell_type": "markdown",
   "metadata": {},
   "source": [
    "## Debugging Data Analysis Code"
   ]
  },
  {
   "cell_type": "code",
   "execution_count": 30,
   "metadata": {
    "collapsed": false
   },
   "outputs": [
    {
     "name": "stdout",
     "output_type": "stream",
     "text": [
      "3564.7332644989997\n",
      "163\n"
     ]
    }
   ],
   "source": [
    "#####################################\n",
    "#                 8                 #\n",
    "#####################################\n",
    "\n",
    "## Go through a similar process as before to see if there is a problem.\n",
    "## Locate at least one surprising piece of data, output it, and take a look at it.\n",
    "\n",
    "student_with_max_minutes = None\n",
    "max_minutes = 0\n",
    "\n",
    "for student, total_minutes in total_minutes_by_account.items():\n",
    "    if total_minutes > max_minutes:\n",
    "        max_minutes = total_minutes\n",
    "        student_with_max_minutes = student\n",
    "\n",
    "print(max_minutes)\n",
    "print(student_with_max_minutes)"
   ]
  },
  {
   "cell_type": "code",
   "execution_count": 31,
   "metadata": {
    "collapsed": false
   },
   "outputs": [
    {
     "name": "stdout",
     "output_type": "stream",
     "text": [
      "OrderedDict([('utc_date', datetime.datetime(2015, 7, 9, 0, 0)), ('num_courses_visited', 4), ('total_minutes_visited', 850.519339666), ('lessons_completed', 4), ('projects_completed', 0), ('account_key', '163'), ('has_visited', 1)])\n",
      "OrderedDict([('utc_date', datetime.datetime(2015, 7, 10, 0, 0)), ('num_courses_visited', 6), ('total_minutes_visited', 872.633923334), ('lessons_completed', 6), ('projects_completed', 0), ('account_key', '163'), ('has_visited', 1)])\n",
      "OrderedDict([('utc_date', datetime.datetime(2015, 7, 11, 0, 0)), ('num_courses_visited', 2), ('total_minutes_visited', 777.018903666), ('lessons_completed', 6), ('projects_completed', 0), ('account_key', '163'), ('has_visited', 1)])\n",
      "OrderedDict([('utc_date', datetime.datetime(2015, 7, 12, 0, 0)), ('num_courses_visited', 1), ('total_minutes_visited', 294.568774), ('lessons_completed', 2), ('projects_completed', 0), ('account_key', '163'), ('has_visited', 1)])\n",
      "OrderedDict([('utc_date', datetime.datetime(2015, 7, 13, 0, 0)), ('num_courses_visited', 3), ('total_minutes_visited', 471.2139785), ('lessons_completed', 1), ('projects_completed', 0), ('account_key', '163'), ('has_visited', 1)])\n",
      "OrderedDict([('utc_date', datetime.datetime(2015, 7, 14, 0, 0)), ('num_courses_visited', 2), ('total_minutes_visited', 298.778345333), ('lessons_completed', 1), ('projects_completed', 0), ('account_key', '163'), ('has_visited', 1)])\n",
      "OrderedDict([('utc_date', datetime.datetime(2015, 7, 15, 0, 0)), ('num_courses_visited', 0), ('total_minutes_visited', 0.0), ('lessons_completed', 0), ('projects_completed', 0), ('account_key', '163'), ('has_visited', 0)])\n"
     ]
    }
   ],
   "source": [
    "for engagement_record in paid_engagement_in_first_week:\n",
    "    if engagement_record['account_key'] == student_with_max_minutes:\n",
    "        print(engagement_record)"
   ]
  },
  {
   "cell_type": "markdown",
   "metadata": {},
   "source": [
    "## Lessons Completed in First Week"
   ]
  },
  {
   "cell_type": "code",
   "execution_count": 32,
   "metadata": {
    "collapsed": false
   },
   "outputs": [],
   "source": [
    "#####################################\n",
    "#                 9                 #\n",
    "#####################################\n",
    "\n",
    "## Adapt the code above to find the mean, standard deviation, minimum, and maximum for\n",
    "## the number of lessons completed by each student during the first week. Try creating\n",
    "## one or more functions to re-use the code above.\n",
    "\n",
    "from collections import defaultdict\n",
    "\n",
    "def group_data(data, key_name):\n",
    "    grouped_data = defaultdict(list)\n",
    "    for data_point in data:\n",
    "        key = data_point[key_name]\n",
    "        grouped_data[key].append(data_point)\n",
    "    return grouped_data\n",
    "\n",
    "engagement_by_account = group_data(paid_engagement_in_first_week, 'account_key')"
   ]
  },
  {
   "cell_type": "code",
   "execution_count": 33,
   "metadata": {
    "collapsed": true
   },
   "outputs": [],
   "source": [
    "def sum_grouped_items(grouped_data, field_name):\n",
    "    summed_data = {}\n",
    "\n",
    "    for key, data_points in grouped_data.items():\n",
    "        total = 0\n",
    "        for data_point in data_points:\n",
    "            total += data_point[field_name]\n",
    "        summed_data[key] = total\n",
    "        \n",
    "    return summed_data\n",
    "\n",
    "total_minutes_by_account = sum_grouped_items(engagement_by_account, 'total_minutes_visited')"
   ]
  },
  {
   "cell_type": "code",
   "execution_count": 53,
   "metadata": {
    "collapsed": false
   },
   "outputs": [
    {
     "name": "stdout",
     "output_type": "stream",
     "text": [
      "Populating the interactive namespace from numpy and matplotlib\n",
      "Mean:  306.708326753\n",
      "Standard Deviation:  412.996933409\n",
      "Maximum:  3564.7332645\n",
      "Minimum:  0.0\n"
     ]
    },
    {
     "data": {
      "image/png": "[encoded data removed]",
      "text/plain": [
       "<matplotlib.figure.Figure at 0x7fd0f0295048>"
      ]
     },
     "metadata": {},
     "output_type": "display_data"
    }
   ],
   "source": [
    "%pylab inline\n",
    "\n",
    "import numpy as np\n",
    "import matplotlib.pyplot as plt\n",
    "\n",
    "def describe_data(data):\n",
    "    print('Mean: ', np.mean(list(data)))\n",
    "    print('Standard Deviation: ', np.std(list(data)))\n",
    "    print('Maximum: ', np.max(list(data)))\n",
    "    print('Minimum: ', np.min(list(data)))\n",
    "    plt.hist(list(data))\n",
    "    \n",
    "total_minutes = total_minutes_by_account.values()\n",
    "describe_data(total_minutes)"
   ]
  },
  {
   "cell_type": "code",
   "execution_count": 55,
   "metadata": {
    "collapsed": false
   },
   "outputs": [
    {
     "name": "stdout",
     "output_type": "stream",
     "text": [
      "Mean:  1.63618090452\n",
      "Standard Deviation:  3.00256129983\n",
      "Maximum:  36\n",
      "Minimum:  0\n"
     ]
    },
    {
     "data": {
      "image/png": "[encoded data removed]",
      "text/plain": [
       "<matplotlib.figure.Figure at 0x7fd0f0389a90>"
      ]
     },
     "metadata": {},
     "output_type": "display_data"
    }
   ],
   "source": [
    "lessons_completed_by_account = sum_grouped_items(engagement_by_account, 'lessons_completed')\n",
    "\n",
    "describe_data(lessons_completed_by_account.values())"
   ]
  },
  {
   "cell_type": "markdown",
   "metadata": {},
   "source": [
    "## Number of Visits in First Week"
   ]
  },
  {
   "cell_type": "code",
   "execution_count": 54,
   "metadata": {
    "collapsed": false
   },
   "outputs": [
    {
     "name": "stdout",
     "output_type": "stream",
     "text": [
      "Mean:  2.86733668342\n",
      "Standard Deviation:  2.25519800292\n",
      "Maximum:  7\n",
      "Minimum:  0\n"
     ]
    },
    {
     "data": {
      "image/png": "[encoded data removed]",
      "text/plain": [
       "<matplotlib.figure.Figure at 0x7fd0f01738d0>"
      ]
     },
     "metadata": {},
     "output_type": "display_data"
    }
   ],
   "source": [
    "######################################\n",
    "#                 10                 #\n",
    "######################################\n",
    "\n",
    "## Find the mean, standard deviation, minimum, and maximum for the number of\n",
    "## days each student visits the classroom during the first week.\n",
    "\n",
    "days_visited_by_account = sum_grouped_items(engagement_by_account, 'has_visited')\n",
    "\n",
    "describe_data(days_visited_by_account.values())"
   ]
  },
  {
   "cell_type": "markdown",
   "metadata": {},
   "source": [
    "## Splitting out Passing Students"
   ]
  },
  {
   "cell_type": "code",
   "execution_count": 37,
   "metadata": {
    "collapsed": false
   },
   "outputs": [
    {
     "name": "stdout",
     "output_type": "stream",
     "text": [
      "OrderedDict([('creation_date', datetime.datetime(2015, 1, 14, 0, 0)), ('completion_date', datetime.datetime(2015, 1, 16, 0, 0)), ('assigned_rating', 'UNGRADED'), ('account_key', '256'), ('lesson_key', '3176718735'), ('processing_state', 'EVALUATED')])\n"
     ]
    }
   ],
   "source": [
    "print(paid_submissions[0])"
   ]
  },
  {
   "cell_type": "code",
   "execution_count": 38,
   "metadata": {
    "collapsed": false
   },
   "outputs": [
    {
     "data": {
      "text/plain": [
       "647"
      ]
     },
     "execution_count": 38,
     "metadata": {},
     "output_type": "execute_result"
    }
   ],
   "source": [
    "######################################\n",
    "#                 11                 #\n",
    "######################################\n",
    "\n",
    "## Create two lists of engagement data for paid students in the first week.\n",
    "## The first list should contain data for students who eventually pass the\n",
    "## subway project, and the second list should contain data for students\n",
    "## who do not.\n",
    "\n",
    "subway_project_lesson_keys = ['746169184', '3176718735']\n",
    "\n",
    "pass_subway_project = set()\n",
    "\n",
    "for submission in paid_submissions:\n",
    "    project = submission['lesson_key'] \n",
    "    rating = submission['assigned_rating']\n",
    "    if project in subway_project_lesson_keys and (rating == 'PASSED' or rating == 'DISTINCTION'):\n",
    "        pass_subway_project.add(submission['account_key'])\n",
    "\n",
    "len(pass_subway_project)"
   ]
  },
  {
   "cell_type": "code",
   "execution_count": 39,
   "metadata": {
    "collapsed": false
   },
   "outputs": [
    {
     "name": "stdout",
     "output_type": "stream",
     "text": [
      "4527\n",
      "2392\n"
     ]
    }
   ],
   "source": [
    "passing_engagement = []\n",
    "non_passing_engagement = []\n",
    "\n",
    "for engagement_record in paid_engagement_in_first_week:\n",
    "    if engagement_record['account_key'] in pass_subway_project:\n",
    "        passing_engagement.append(engagement_record)\n",
    "    else:\n",
    "        non_passing_engagement.append(engagement_record)\n",
    "\n",
    "print(len(passing_engagement))\n",
    "print(len(non_passing_engagement))"
   ]
  },
  {
   "cell_type": "markdown",
   "metadata": {},
   "source": [
    "## Comparing the Two Student Groups"
   ]
  },
  {
   "cell_type": "code",
   "execution_count": 56,
   "metadata": {
    "collapsed": false
   },
   "outputs": [
    {
     "name": "stdout",
     "output_type": "stream",
     "text": [
      "passing_student: \n",
      "Mean:  394.586046484\n",
      "Standard Deviation:  448.499519327\n",
      "Maximum:  3564.7332645\n",
      "Minimum:  0.0\n",
      "======================\n",
      "non_passing_student: \n",
      "Mean:  143.326474267\n",
      "Standard Deviation:  269.538619011\n",
      "Maximum:  1768.52274933\n",
      "Minimum:  0.0\n"
     ]
    },
    {
     "data": {
      "image/png": "[encoded data removed]",
      "text/plain": [
       "<matplotlib.figure.Figure at 0x7fd0f039b9b0>"
      ]
     },
     "metadata": {},
     "output_type": "display_data"
    }
   ],
   "source": [
    "######################################\n",
    "#                 12                 #\n",
    "######################################\n",
    "\n",
    "## Compute some metrics you're interested in and see how they differ for\n",
    "## students who pass the subway project vs. students who don't. A good\n",
    "## starting point would be the metrics we looked at earlier (minutes spent\n",
    "## in the classroom, lessons completed, and days visited).\n",
    "\n",
    "passing_engagement_by_account = group_data(passing_engagement, 'account_key')\n",
    "\n",
    "non_passing_engagement_by_account = group_data(non_passing_engagement, 'account_key')\n",
    "\n",
    "print('passing_student: ')\n",
    "\n",
    "passing_minutes = sum_grouped_items(passing_engagement_by_account, 'total_minutes_visited')\n",
    "\n",
    "describe_data(passing_minutes.values())\n",
    "\n",
    "print('======================')\n",
    "print('non_passing_student: ')\n",
    "\n",
    "non_passing_minutes = sum_grouped_items(non_passing_engagement_by_account, 'total_minutes_visited')\n",
    "\n",
    "describe_data(non_passing_minutes.values())"
   ]
  },
  {
   "cell_type": "code",
   "execution_count": 57,
   "metadata": {
    "collapsed": false
   },
   "outputs": [
    {
     "name": "stdout",
     "output_type": "stream",
     "text": [
      "non-passing students: \n",
      "Mean:  0.862068965517\n",
      "Standard Deviation:  2.54915994183\n",
      "Maximum:  27\n",
      "Minimum:  0\n",
      "passing students: \n",
      "Mean:  2.05255023184\n",
      "Standard Deviation:  3.14222705558\n",
      "Maximum:  36\n",
      "Minimum:  0\n"
     ]
    },
    {
     "data": {
      "image/png": "[encoded data removed]",
      "text/plain": [
       "<matplotlib.figure.Figure at 0x7fd0f025f940>"
      ]
     },
     "metadata": {},
     "output_type": "display_data"
    }
   ],
   "source": [
    "print('non-passing students: ')\n",
    "non_passing_lessons = sum_grouped_items(non_passing_engagement_by_account, 'lessons_completed')\n",
    "\n",
    "describe_data(non_passing_lessons.values())\n",
    "\n",
    "print('passing students: ')\n",
    "passing_lessons = sum_grouped_items(passing_engagement_by_account, 'lessons_completed')\n",
    "\n",
    "describe_data(passing_lessons.values())"
   ]
  },
  {
   "cell_type": "code",
   "execution_count": 58,
   "metadata": {
    "collapsed": false
   },
   "outputs": [
    {
     "name": "stdout",
     "output_type": "stream",
     "text": [
      "non-passing students: \n",
      "Mean:  1.90517241379\n",
      "Standard Deviation:  1.90573144136\n",
      "Maximum:  7\n",
      "Minimum:  0\n",
      "passing students: \n",
      "Mean:  3.38485316847\n",
      "Standard Deviation:  2.25882147092\n",
      "Maximum:  7\n",
      "Minimum:  0\n"
     ]
    },
    {
     "data": {
      "image/png": "[encoded data removed]",
      "text/plain": [
       "<matplotlib.figure.Figure at 0x7fd0efdcdeb8>"
      ]
     },
     "metadata": {},
     "output_type": "display_data"
    }
   ],
   "source": [
    "print('non-passing students: ')\n",
    "non_passing_visits = sum_grouped_items(non_passing_engagement_by_account, 'has_visited')\n",
    "\n",
    "describe_data(non_passing_visits.values())\n",
    "\n",
    "print('passing students: ')\n",
    "passing_visits = sum_grouped_items(passing_engagement_by_account, 'has_visited')\n",
    "\n",
    "describe_data(passing_visits.values())"
   ]
  },
  {
   "cell_type": "markdown",
   "metadata": {},
   "source": [
    "## Making Histograms"
   ]
  },
  {
   "cell_type": "code",
   "execution_count": 59,
   "metadata": {
    "collapsed": true
   },
   "outputs": [],
   "source": [
    "######################################\n",
    "#                 13                 #\n",
    "######################################\n",
    "\n",
    "## Make histograms of the three metrics we looked at earlier for both\n",
    "## students who passed the subway project and students who didn't. You\n",
    "## might also want to make histograms of any other metrics you examined."
   ]
  },
  {
   "cell_type": "markdown",
   "metadata": {},
   "source": [
    "## Improving Plots and Sharing Findings"
   ]
  },
  {
   "cell_type": "code",
   "execution_count": 66,
   "metadata": {
    "collapsed": false
   },
   "outputs": [
    {
     "data": {
      "text/plain": [
       "<matplotlib.text.Text at 0x7fd0f0fc3c88>"
      ]
     },
     "execution_count": 66,
     "metadata": {},
     "output_type": "execute_result"
    },
    {
     "name": "stderr",
     "output_type": "stream",
     "text": [
      "/home/vagrant/anaconda3/lib/python3.6/site-packages/matplotlib/font_manager.py:1297: UserWarning: findfont: Font family ['sans-serif'] not found. Falling back to DejaVu Sans\n",
      "  (prop.get_family(), self.defaultFamily[fontext]))\n"
     ]
    },
    {
     "data": {
      "image/png": "[encoded data removed]",
      "text/plain": [
       "<matplotlib.figure.Figure at 0x7fd0f0f80080>"
      ]
     },
     "metadata": {},
     "output_type": "display_data"
    }
   ],
   "source": [
    "######################################\n",
    "#                 14                 #\n",
    "######################################\n",
    "\n",
    "## Make a more polished version of at least one of your visualizations\n",
    "## from earlier. Try importing the seaborn library to make the visualization\n",
    "## look better, adding axis labels and a title, and changing one or more\n",
    "## arguments to the hist() function.\n",
    "\n",
    "import seaborn as sns\n",
    "\n",
    "plt.hist(list(passing_visits.values()), bins=8)\n",
    "plt.xlabel('Number Of Days')\n",
    "plt.title('Distribution of classroom visits in the first week ' + 'for students who pass the subway project')"
   ]
  },
  {
   "cell_type": "code",
   "execution_count": 67,
   "metadata": {
    "collapsed": false
   },
   "outputs": [
    {
     "data": {
      "text/plain": [
       "<matplotlib.text.Text at 0x7fd0f0e812e8>"
      ]
     },
     "execution_count": 67,
     "metadata": {},
     "output_type": "execute_result"
    },
    {
     "name": "stderr",
     "output_type": "stream",
     "text": [
      "/home/vagrant/anaconda3/lib/python3.6/site-packages/matplotlib/font_manager.py:1297: UserWarning: findfont: Font family ['sans-serif'] not found. Falling back to DejaVu Sans\n",
      "  (prop.get_family(), self.defaultFamily[fontext]))\n"
     ]
    },
    {
     "data": {
      "image/png": "[encoded data removed]",
      "text/plain": [
       "<matplotlib.figure.Figure at 0x7fd0f1005cc0>"
      ]
     },
     "metadata": {},
     "output_type": "display_data"
    }
   ],
   "source": [
    "plt.hist(list(non_passing_visits.values()), bins=8)\n",
    "plt.xlabel('Number Of Days')\n",
    "plt.title('Distribution of classroom visits in the first week ' + 'for students who do not pass the subway project')"
   ]
  },
  {
   "cell_type": "code",
   "execution_count": null,
   "metadata": {
    "collapsed": true
   },
   "outputs": [],
   "source": []
  }
 ],
 "metadata": {
  "kernelspec": {
   "display_name": "Python 3",
   "language": "python",
   "name": "python3"
  },
  "language_info": {
   "codemirror_mode": {
    "name": "ipython",
    "version": 3
   },
   "file_extension": ".py",
   "mimetype": "text/x-python",
   "name": "python",
   "nbconvert_exporter": "python",
   "pygments_lexer": "ipython3",
   "version": "3.6.0"
  }
 },
 "nbformat": 4,
 "nbformat_minor": 0
}
