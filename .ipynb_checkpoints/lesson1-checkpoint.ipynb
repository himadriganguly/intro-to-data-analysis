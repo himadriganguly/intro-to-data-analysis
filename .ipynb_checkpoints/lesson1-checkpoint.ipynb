{
 "cells": [
  {
   "cell_type": "code",
   "execution_count": 8,
   "metadata": {
    "collapsed": false
   },
   "outputs": [
    {
     "data": {
      "text/plain": [
       "OrderedDict([('account_key', '448'),\n",
       "             ('status', 'canceled'),\n",
       "             ('join_date', '2014-11-10'),\n",
       "             ('cancel_date', '2015-01-14'),\n",
       "             ('days_to_cancel', '65'),\n",
       "             ('is_udacity', 'True'),\n",
       "             ('is_canceled', 'True')])"
      ]
     },
     "execution_count": 8,
     "metadata": {},
     "output_type": "execute_result"
    }
   ],
   "source": [
    "import unicodecsv\n",
    "\n",
    "with open('../enrollments.csv', 'rb') as f:\n",
    "    reader = unicodecsv.DictReader(f)\n",
    "    enrollments = list(reader)\n",
    "    \n",
    "    f.close()\n",
    "\n",
    "enrollments[0]"
   ]
  },
  {
   "cell_type": "code",
   "execution_count": 9,
   "metadata": {
    "collapsed": false
   },
   "outputs": [
    {
     "data": {
      "text/plain": [
       "OrderedDict([('acct', '0'),\n",
       "             ('utc_date', '2015-01-09'),\n",
       "             ('num_courses_visited', '1.0'),\n",
       "             ('total_minutes_visited', '11.6793745'),\n",
       "             ('lessons_completed', '0.0'),\n",
       "             ('projects_completed', '0.0')])"
      ]
     },
     "execution_count": 9,
     "metadata": {},
     "output_type": "execute_result"
    }
   ],
   "source": [
    "with open('../daily_engagement.csv', 'rb') as f:\n",
    "    reader1 = unicodecsv.DictReader(f)\n",
    "    daily_engagement = list(reader1)\n",
    "    \n",
    "    f.close()\n",
    "\n",
    "daily_engagement[0]"
   ]
  },
  {
   "cell_type": "code",
   "execution_count": 10,
   "metadata": {
    "collapsed": false
   },
   "outputs": [
    {
     "data": {
      "text/plain": [
       "OrderedDict([('creation_date', '2015-01-14'),\n",
       "             ('completion_date', '2015-01-16'),\n",
       "             ('assigned_rating', 'UNGRADED'),\n",
       "             ('account_key', '256'),\n",
       "             ('lesson_key', '3176718735'),\n",
       "             ('processing_state', 'EVALUATED')])"
      ]
     },
     "execution_count": 10,
     "metadata": {},
     "output_type": "execute_result"
    }
   ],
   "source": [
    "with open('../project_submissions.csv', 'rb') as f:\n",
    "    reader2 = unicodecsv.DictReader(f)\n",
    "    project_submissions = list(reader2)\n",
    "    \n",
    "    f.close()\n",
    "\n",
    "project_submissions[0]"
   ]
  },
  {
   "cell_type": "code",
   "execution_count": 14,
   "metadata": {
    "collapsed": false
   },
   "outputs": [
    {
     "name": "stdout",
     "output_type": "stream",
     "text": [
      "OrderedDict([('account_key', '448'), ('status', 'canceled'), ('join_date', '2014-11-10'), ('cancel_date', '2015-01-14'), ('days_to_cancel', '65'), ('is_udacity', 'True'), ('is_canceled', 'True')])\n",
      "===============\n",
      "OrderedDict([('acct', '0'), ('utc_date', '2015-01-09'), ('num_courses_visited', '1.0'), ('total_minutes_visited', '11.6793745'), ('lessons_completed', '0.0'), ('projects_completed', '0.0')])\n",
      "===============\n",
      "OrderedDict([('creation_date', '2015-01-14'), ('completion_date', '2015-01-16'), ('assigned_rating', 'UNGRADED'), ('account_key', '256'), ('lesson_key', '3176718735'), ('processing_state', 'EVALUATED')])\n"
     ]
    }
   ],
   "source": [
    "def read_csv(filename):\n",
    "    with open(filename, 'rb') as f:\n",
    "        reader = unicodecsv.DictReader(f)\n",
    "        return list(reader)\n",
    "\n",
    "enrollments = read_csv('../enrollments.csv')\n",
    "daily_engagement = read_csv('../daily_engagement.csv')\n",
    "project_submissions = read_csv('../project_submissions.csv')\n",
    "\n",
    "print(enrollments[0])\n",
    "print(\"===============\")\n",
    "print(daily_engagement[0])\n",
    "print(\"===============\")\n",
    "print(project_submissions[0])"
   ]
  },
  {
   "cell_type": "code",
   "execution_count": null,
   "metadata": {
    "collapsed": true
   },
   "outputs": [],
   "source": []
  }
 ],
 "metadata": {
  "kernelspec": {
   "display_name": "Python 3",
   "language": "python",
   "name": "python3"
  },
  "language_info": {
   "codemirror_mode": {
    "name": "ipython",
    "version": 3
   },
   "file_extension": ".py",
   "mimetype": "text/x-python",
   "name": "python",
   "nbconvert_exporter": "python",
   "pygments_lexer": "ipython3",
   "version": "3.6.0"
  }
 },
 "nbformat": 4,
 "nbformat_minor": 2
}
